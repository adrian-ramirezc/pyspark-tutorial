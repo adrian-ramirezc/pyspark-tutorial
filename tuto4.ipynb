{
 "cells": [
  {
   "cell_type": "code",
   "execution_count": 1,
   "metadata": {},
   "outputs": [
    {
     "name": "stdout",
     "output_type": "stream",
     "text": [
      "+---------+---+----------+------+\n",
      "|     Name|age|experience|salary|\n",
      "+---------+---+----------+------+\n",
      "|    Krish| 31|        10|  1300|\n",
      "|Sudhanshu| 30|         5|  5000|\n",
      "|    Sunny| 34|        12|  1800|\n",
      "|   Adrian| 24|         2|  2500|\n",
      "+---------+---+----------+------+\n",
      "\n"
     ]
    }
   ],
   "source": [
    "from pyspark.sql import SparkSession\n",
    "spark = SparkSession.builder.appName('dataframe').getOrCreate()\n",
    "\n",
    "df_pyspark = spark.read.csv('test1.csv', header = True, inferSchema = True)\n",
    "df_pyspark.show()"
   ]
  },
  {
   "cell_type": "code",
   "execution_count": 7,
   "metadata": {},
   "outputs": [
    {
     "name": "stdout",
     "output_type": "stream",
     "text": [
      "+-----+---+----------+------+\n",
      "| Name|age|experience|salary|\n",
      "+-----+---+----------+------+\n",
      "|Krish| 31|        10|  1300|\n",
      "|Sunny| 34|        12|  1800|\n",
      "+-----+---+----------+------+\n",
      "\n"
     ]
    }
   ],
   "source": [
    "# salary of people ledd than 2000 \n",
    "df_pyspark.filter('salary <= 2000').show()"
   ]
  },
  {
   "cell_type": "code",
   "execution_count": 9,
   "metadata": {},
   "outputs": [
    {
     "name": "stdout",
     "output_type": "stream",
     "text": [
      "+-----+---+\n",
      "| Name|age|\n",
      "+-----+---+\n",
      "|Krish| 31|\n",
      "|Sunny| 34|\n",
      "+-----+---+\n",
      "\n"
     ]
    }
   ],
   "source": [
    "df_pyspark.filter('salary <= 2000').select(['Name', 'age']).show()"
   ]
  },
  {
   "cell_type": "code",
   "execution_count": 10,
   "metadata": {},
   "outputs": [
    {
     "name": "stdout",
     "output_type": "stream",
     "text": [
      "+---------+---+----------+------+\n",
      "|     Name|age|experience|salary|\n",
      "+---------+---+----------+------+\n",
      "|Sudhanshu| 30|         5|  5000|\n",
      "|   Adrian| 24|         2|  2500|\n",
      "+---------+---+----------+------+\n",
      "\n"
     ]
    }
   ],
   "source": [
    "df_pyspark.filter(df_pyspark[\"salary\"] > 2000).show()"
   ]
  },
  {
   "cell_type": "code",
   "execution_count": 12,
   "metadata": {},
   "outputs": [
    {
     "name": "stdout",
     "output_type": "stream",
     "text": [
      "+---------+---+----------+------+\n",
      "|     Name|age|experience|salary|\n",
      "+---------+---+----------+------+\n",
      "|Sudhanshu| 30|         5|  5000|\n",
      "+---------+---+----------+------+\n",
      "\n"
     ]
    }
   ],
   "source": [
    "df_pyspark.filter((df_pyspark[\"salary\"] > 2000) & (df_pyspark['experience'] > 2)).show()"
   ]
  },
  {
   "cell_type": "code",
   "execution_count": 16,
   "metadata": {},
   "outputs": [
    {
     "name": "stdout",
     "output_type": "stream",
     "text": [
      "+---------+---+----------+------+\n",
      "|     Name|age|experience|salary|\n",
      "+---------+---+----------+------+\n",
      "|Sudhanshu| 30|         5|  5000|\n",
      "|    Sunny| 34|        12|  1800|\n",
      "|   Adrian| 24|         2|  2500|\n",
      "+---------+---+----------+------+\n",
      "\n"
     ]
    }
   ],
   "source": [
    "df_pyspark.filter((df_pyspark[\"salary\"] > 2000) | (df_pyspark['experience'] > 10)).show()"
   ]
  },
  {
   "cell_type": "code",
   "execution_count": 15,
   "metadata": {},
   "outputs": [
    {
     "name": "stdout",
     "output_type": "stream",
     "text": [
      "+-----+---+----------+------+\n",
      "| Name|age|experience|salary|\n",
      "+-----+---+----------+------+\n",
      "|Krish| 31|        10|  1300|\n",
      "|Sunny| 34|        12|  1800|\n",
      "+-----+---+----------+------+\n",
      "\n"
     ]
    }
   ],
   "source": [
    "df_pyspark.filter(~(df_pyspark[\"salary\"] > 2000) | (df_pyspark['experience'] > 5)).show()"
   ]
  },
  {
   "cell_type": "code",
   "execution_count": null,
   "metadata": {},
   "outputs": [],
   "source": []
  }
 ],
 "metadata": {
  "interpreter": {
   "hash": "0a6d0a9e0b1a83a122eaa6654f7f510c1807fc6796b574175be5693b03816042"
  },
  "kernelspec": {
   "display_name": "Python 3.9.7 64-bit ('pysparkenv': conda)",
   "language": "python",
   "name": "python3"
  },
  "language_info": {
   "codemirror_mode": {
    "name": "ipython",
    "version": 3
   },
   "file_extension": ".py",
   "mimetype": "text/x-python",
   "name": "python",
   "nbconvert_exporter": "python",
   "pygments_lexer": "ipython3",
   "version": "3.9.7"
  },
  "orig_nbformat": 4
 },
 "nbformat": 4,
 "nbformat_minor": 2
}
